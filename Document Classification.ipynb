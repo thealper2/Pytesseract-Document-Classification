{
 "cells": [
  {
   "cell_type": "markdown",
   "id": "3c3f52a2-07b1-4ba5-8d99-5d4c12e990e3",
   "metadata": {},
   "source": [
    "# Import Data"
   ]
  },
  {
   "cell_type": "code",
   "execution_count": null,
   "id": "dfaea61d-3ae9-48d8-9564-de6413a0841b",
   "metadata": {},
   "outputs": [],
   "source": [
    "import numpy as np\n",
    "import pandas as pd\n",
    "import matplotlib.pyplot as plt\n",
    "import os\n",
    "import cv2\n",
    "import pytesseract\n",
    "import string\n",
    "import spacy\n",
    "import nltk\n",
    "import en_core_web_sm\n",
    "import pickle\n",
    "import seaborn as sns\n",
    "import time\n",
    "import warnings\n",
    "from sklearn.exceptions import ConvergenceWarning\n",
    "warnings.filterwarnings(\"ignore\", category=UserWarning)\n",
    "warnings.filterwarnings(\"ignore\", category=FutureWarning)\n",
    "warnings.filterwarnings(\"ignore\", category=ConvergenceWarning)\n",
    "\n",
    "from PIL import Image\n",
    "from sklearn.model_selection import train_test_split, cross_val_score\n",
    "from spacy import displacy\n",
    "from spacy.lang.en.stop_words import STOP_WORDS\n",
    "from sklearn.preprocessing import LabelEncoder\n",
    "from sklearn.feature_extraction.text import TfidfVectorizer\n",
    "from sklearn.metrics import accuracy_score, classification_report, confusion_matrix\n",
    "from sklearn.linear_model import LogisticRegression\n",
    "from sklearn.ensemble import RandomForestClassifier\n",
    "from sklearn.tree import DecisionTreeClassifier\n",
    "from sklearn.naive_bayes import MultinomialNB\n",
    "from xgboost import XGBClassifier\n",
    "\n",
    "from mlxtend.plotting import plot_confusion_matrix\n",
    "from scikitplot.metrics import plot_cumulative_gain, plot_precision_recall, plot_roc_curve\n",
    "from sklearn.metrics import accuracy_score, classification_report, confusion_matrix, precision_score, f1_score\n",
    "from sklearn.metrics import precision_recall_curve, recall_score, auc, roc_auc_score, roc_curve\n",
    "\n",
    "np.bool = np.bool_"
   ]
  },
  {
   "cell_type": "markdown",
   "id": "7f834e64-af5e-4030-9267-d14944e0ffef",
   "metadata": {},
   "source": [
    "# Load Data"
   ]
  },
  {
   "cell_type": "code",
   "execution_count": null,
   "id": "194eca3e-b66d-48cd-a4ea-db4c3af7e52e",
   "metadata": {},
   "outputs": [],
   "source": [
    "root_dir = \"/mnt/hdd/Datasets/docs-sm\"\n",
    "folders = [\"form\", \"invoice\", \"letter\", \"questionnaire\", \"resume\", ]"
   ]
  },
  {
   "cell_type": "code",
   "execution_count": null,
   "id": "be4a1819-a12d-4542-a22d-0f4bc4077a05",
   "metadata": {},
   "outputs": [],
   "source": [
    "form_image = Image.open(os.path.join(root_dir, \"form\", \"00043194.jpg\"))\n",
    "form_image"
   ]
  },
  {
   "cell_type": "code",
   "execution_count": null,
   "id": "c3fdcfd9-681d-4bc6-87f6-935a0d1937b9",
   "metadata": {},
   "outputs": [],
   "source": [
    "file_path = os.path.join(root_dir, \"form\", \"00043194.jpg\")\n",
    "img = cv2.imread(file_path)\n",
    "text = pytesseract.image_to_data(img, output_type=\"data.frame\")\n",
    "text = text.dropna()\n",
    "words = []\n",
    "for t in text[\"text\"]:\n",
    "    words.append(t.strip())\n",
    "texts = \" \".join([word for word in words])\n",
    "print(texts)"
   ]
  },
  {
   "cell_type": "code",
   "execution_count": null,
   "id": "6da60111-e9d2-4bfa-b2bc-b78e0c4852d3",
   "metadata": {},
   "outputs": [],
   "source": [
    "data = []\n",
    "labels = []\n",
    "\n",
    "for folder in folders:\n",
    "    files = os.listdir(os.path.join(root_dir, folder))\n",
    "    for file in files:\n",
    "        file_path = os.path.join(root_dir, folder, file)\n",
    "        img = cv2.imread(file_path)\n",
    "        text = pytesseract.image_to_data(img, output_type=\"data.frame\")\n",
    "        text = text.dropna()\n",
    "        words = []\n",
    "        for t in text[\"text\"]:\n",
    "            words.append(t.strip())\n",
    "\n",
    "        texts = \" \".join([word for word in words])\n",
    "        data.append(texts)\n",
    "        labels.append(folder)"
   ]
  },
  {
   "cell_type": "code",
   "execution_count": null,
   "id": "ebbc04f9-d982-4012-88d3-9a94e81810cf",
   "metadata": {},
   "outputs": [],
   "source": [
    "df = pd.DataFrame({\"text\": data, \"doc_type\": labels})\n",
    "df.head()"
   ]
  },
  {
   "cell_type": "code",
   "execution_count": null,
   "id": "ab623a2c-35a1-44cc-9d30-368f3cc4d4a6",
   "metadata": {},
   "outputs": [],
   "source": [
    "df.shape"
   ]
  },
  {
   "cell_type": "code",
   "execution_count": null,
   "id": "0c2c5376-234f-4c4a-b808-35f375f393ad",
   "metadata": {},
   "outputs": [],
   "source": [
    "df.isnull().sum()"
   ]
  },
  {
   "cell_type": "code",
   "execution_count": null,
   "id": "89df168d-0130-4de6-89e9-7b2f7550fd54",
   "metadata": {},
   "outputs": [],
   "source": [
    "df[\"doc_type\"].value_counts()"
   ]
  },
  {
   "cell_type": "code",
   "execution_count": null,
   "id": "bc66b103-8d5d-4130-b0d7-eb55fc808c5a",
   "metadata": {},
   "outputs": [],
   "source": [
    "df.to_csv(\"df.csv\", encoding=\"utf-8\", index=None, header=None)"
   ]
  },
  {
   "cell_type": "markdown",
   "id": "7816648f-c3f0-4e8d-a6fe-7ddb6aefedaf",
   "metadata": {},
   "source": [
    "# Preprocess"
   ]
  },
  {
   "cell_type": "code",
   "execution_count": null,
   "id": "42746778-a31b-4d15-b558-0e814516ed90",
   "metadata": {},
   "outputs": [],
   "source": [
    "def label_encoder(column):\n",
    "    le = LabelEncoder().fit(column)\n",
    "    print(column.name, le.classes_)\n",
    "    return le.transform(column)"
   ]
  },
  {
   "cell_type": "code",
   "execution_count": null,
   "id": "5c61b8ff-e24a-40ab-b7f6-483798a9d96c",
   "metadata": {},
   "outputs": [],
   "source": [
    "df[\"doc_type\"] = label_encoder(df[\"doc_type\"])"
   ]
  },
  {
   "cell_type": "code",
   "execution_count": null,
   "id": "bf3bd9a4-8372-4220-beb5-4bb620c1429b",
   "metadata": {},
   "outputs": [],
   "source": [
    "df.head()"
   ]
  },
  {
   "cell_type": "code",
   "execution_count": null,
   "id": "a07d795f-7628-44b3-a102-a9b596590107",
   "metadata": {},
   "outputs": [],
   "source": [
    "nlp = spacy.load(\"en_core_web_sm\")"
   ]
  },
  {
   "cell_type": "code",
   "execution_count": null,
   "id": "0bbe7af3-357b-4b41-8430-13ca25d5f889",
   "metadata": {},
   "outputs": [],
   "source": [
    "stopwords = list(STOP_WORDS)\n",
    "print(len(stopwords))"
   ]
  },
  {
   "cell_type": "code",
   "execution_count": null,
   "id": "ac736351-e32f-49ac-8cee-128a75b117d8",
   "metadata": {},
   "outputs": [],
   "source": [
    "punctuations = string.punctuation"
   ]
  },
  {
   "cell_type": "code",
   "execution_count": null,
   "id": "3b5a45f0-eb91-4a13-b9bd-7fc131be067e",
   "metadata": {},
   "outputs": [],
   "source": [
    "def sentence_tokens(text):\n",
    "    doc = nlp(text)\n",
    "    tokens = [token.lemma_.lower().strip() if token.lemma_ != \"-PRON-\" else token.lower_ for token in doc]\n",
    "    tokens = [token for token in tokens if token not in punctuations and token not in stopwords]\n",
    "    return tokens"
   ]
  },
  {
   "cell_type": "code",
   "execution_count": null,
   "id": "a179664c-a8b8-453e-a640-6982f0019496",
   "metadata": {},
   "outputs": [],
   "source": [
    "tfidf = TfidfVectorizer(tokenizer=sentence_tokens)"
   ]
  },
  {
   "cell_type": "markdown",
   "id": "2a57f8c2-8915-4d42-b6f9-90e603ecdfb4",
   "metadata": {},
   "source": [
    "# Model"
   ]
  },
  {
   "cell_type": "code",
   "execution_count": null,
   "id": "9bd443d2-bc27-4580-99af-8a994ccb51c8",
   "metadata": {},
   "outputs": [],
   "source": [
    "df = df.sample(frac=1).reset_index(drop=True)"
   ]
  },
  {
   "cell_type": "code",
   "execution_count": null,
   "id": "c19c47da-ed09-4994-bf7b-ab4b6ee6c262",
   "metadata": {},
   "outputs": [],
   "source": [
    "df.head()"
   ]
  },
  {
   "cell_type": "code",
   "execution_count": null,
   "id": "010ae35f-d9d1-4d65-8527-c0a39e9c13b2",
   "metadata": {},
   "outputs": [],
   "source": [
    "X = df[\"text\"]\n",
    "y = df[\"doc_type\"]"
   ]
  },
  {
   "cell_type": "code",
   "execution_count": null,
   "id": "95a26785-8542-4591-a4f6-dc5d796a268e",
   "metadata": {},
   "outputs": [],
   "source": [
    "X_train, X_test, y_train, y_test = train_test_split(X, y, test_size=0.2, random_state=42)"
   ]
  },
  {
   "cell_type": "code",
   "execution_count": null,
   "id": "42d2dffc-01f9-49a1-b2bc-9bdd1f1fcf9f",
   "metadata": {},
   "outputs": [],
   "source": [
    "X_train_tfidf = tfidf.fit_transform(X_train)\n",
    "X_test_tfidf = tfidf.transform(X_test)"
   ]
  },
  {
   "cell_type": "code",
   "execution_count": null,
   "id": "87db2513-bfe6-47d6-92f8-3e755e554afe",
   "metadata": {},
   "outputs": [],
   "source": [
    "pickle.dump(tfidf, open(\"tfidf.pkl\", \"wb\"))"
   ]
  },
  {
   "cell_type": "markdown",
   "id": "c526ff42-640f-4e96-87d0-32d95026eb5a",
   "metadata": {},
   "source": [
    "# Logistic Regression"
   ]
  },
  {
   "cell_type": "code",
   "execution_count": null,
   "id": "aa3596c3-08a7-498b-89fd-a08136b106f0",
   "metadata": {},
   "outputs": [],
   "source": [
    "logreg = LogisticRegression()\n",
    "start = time.time()\n",
    "logreg.fit(X_train_tfidf, y_train)\n",
    "end = time.time()\n",
    "logreg_time = end - start\n",
    "print(\"Logistic Regression Train Time:\", logreg_time)"
   ]
  },
  {
   "cell_type": "code",
   "execution_count": null,
   "id": "4ac00fe2-4d23-45b0-bbb2-97f550198ada",
   "metadata": {},
   "outputs": [],
   "source": [
    "pickle.dump(logreg, open(\"logreg.pkl\", \"wb\"))"
   ]
  },
  {
   "cell_type": "code",
   "execution_count": null,
   "id": "a1593542-f810-481a-847a-843c8c6d5a8b",
   "metadata": {},
   "outputs": [],
   "source": [
    "logreg_scores = cross_val_score(LogisticRegression(), X_train_tfidf, y_train, cv=3)\n",
    "print(\"Logistic Regression Cross-Validation Accuracy Scores:\", logreg_scores)"
   ]
  },
  {
   "cell_type": "code",
   "execution_count": null,
   "id": "87554e2e-92a3-42c5-a224-d13e8a44574e",
   "metadata": {},
   "outputs": [],
   "source": [
    "logreg_pred_train = logreg.predict(X_train_tfidf)\n",
    "logreg_pred_test = logreg.predict(X_test_tfidf)\n",
    "\n",
    "logreg_train_score = accuracy_score(logreg_pred_train, y_train)\n",
    "logreg_test_score = accuracy_score(logreg_pred_test, y_test)\n",
    "print(\"Logistic Regression Train Score:\", logreg_train_score)\n",
    "print(\"Logistic Regression Test Score:\", logreg_test_score)"
   ]
  },
  {
   "cell_type": "code",
   "execution_count": null,
   "id": "ea6c9ac8-7087-47b4-84ae-c4832f0c97a5",
   "metadata": {},
   "outputs": [],
   "source": [
    "print(classification_report(y_test, logreg_pred_test))"
   ]
  },
  {
   "cell_type": "code",
   "execution_count": null,
   "id": "82d98238-55a8-49fd-b652-a778a0917af5",
   "metadata": {},
   "outputs": [],
   "source": [
    "logreg_cm = confusion_matrix(y_test, logreg_pred_test)\n",
    "fig, ax = plot_confusion_matrix(conf_mat=logreg_cm, show_absolute=True, show_normed=True, colorbar=True, class_names=class_names)\n",
    "plt.title(\"Logistic Regression Confusion Matrix\")\n",
    "plt.show()"
   ]
  },
  {
   "cell_type": "markdown",
   "id": "96111d88-fc06-4fed-a759-c68f0d5d769f",
   "metadata": {},
   "source": [
    "# Random Forest"
   ]
  },
  {
   "cell_type": "code",
   "execution_count": null,
   "id": "4c53380d-a26e-477e-8c63-2056952d74ed",
   "metadata": {},
   "outputs": [],
   "source": [
    "rf = RandomForestClassifier()\n",
    "start = time.time()\n",
    "rf.fit(X_train_tfidf, y_train)\n",
    "end = time.time()\n",
    "rf_time = end - start\n",
    "print(\"Random Forest Train Time:\", rf_time)"
   ]
  },
  {
   "cell_type": "code",
   "execution_count": null,
   "id": "a7f56f2e-2848-4aea-ad64-c068aa5c6c7d",
   "metadata": {},
   "outputs": [],
   "source": [
    "pickle.dump(rf, open(\"rf.pkl\", \"wb\"))"
   ]
  },
  {
   "cell_type": "code",
   "execution_count": null,
   "id": "6e2ccdb3-a3fa-4bb7-aa23-186572e24d06",
   "metadata": {},
   "outputs": [],
   "source": [
    "rf_scores = cross_val_score(RandomForestClassifier(), X_train_tfidf, y_train, cv=3)\n",
    "print(\"Random Forest Cross-Validation Acuracy Scores:\", rf_scores)"
   ]
  },
  {
   "cell_type": "code",
   "execution_count": null,
   "id": "00cd897c-f05a-478b-aec6-35ef95259e2c",
   "metadata": {},
   "outputs": [],
   "source": [
    "rf_pred_train = rf.predict(X_train_tfidf)\n",
    "rf_pred_test = rf.predict(X_test_tfidf)\n",
    "\n",
    "rf_train_score = accuracy_score(rf_pred_train, y_train)\n",
    "rf_test_score = accuracy_score(rf_pred_test, y_test)\n",
    "print(\"Random Forest Train Score:\", rf_train_score)\n",
    "print(\"Random Forest Test Score:\", rf_test_score)"
   ]
  },
  {
   "cell_type": "code",
   "execution_count": null,
   "id": "09bd3d84-61ca-4328-86c5-b8269b2f1849",
   "metadata": {},
   "outputs": [],
   "source": [
    "print(classification_report(y_test, rf_pred_test))"
   ]
  },
  {
   "cell_type": "code",
   "execution_count": null,
   "id": "8d403541-2af2-4bf7-a1be-ef711941cc5c",
   "metadata": {},
   "outputs": [],
   "source": [
    "rf_cm = confusion_matrix(y_test, rf_pred_test)\n",
    "fig, ax = plot_confusion_matrix(conf_mat=rf_cm, show_absolute=True, show_normed=True, colorbar=True, class_names=class_names)\n",
    "plt.title(\"Random Forest Confusion Matrix\")\n",
    "plt.show()"
   ]
  },
  {
   "cell_type": "markdown",
   "id": "5cfe13fe-61f5-43c6-9440-b758713f35ec",
   "metadata": {},
   "source": [
    "# Decision Tree"
   ]
  },
  {
   "cell_type": "code",
   "execution_count": null,
   "id": "0803e3d5-6bd7-4900-a778-ad2b4fd8adec",
   "metadata": {},
   "outputs": [],
   "source": [
    "dt = DecisionTreeClassifier()\n",
    "start = time.time()\n",
    "dt.fit(X_train_tfidf, y_train)\n",
    "end = time.time()\n",
    "dt_time = end - start\n",
    "print(\"Decision Tree Train Time:\", dt_time)"
   ]
  },
  {
   "cell_type": "code",
   "execution_count": null,
   "id": "aef2f6e1-edd7-4544-924b-1aa6755dcd93",
   "metadata": {},
   "outputs": [],
   "source": [
    "pickle.dump(dt, open(\"dt.pkl\", \"wb\"))"
   ]
  },
  {
   "cell_type": "code",
   "execution_count": null,
   "id": "298ef4ce-e217-4383-9e48-ea7abc4e0e54",
   "metadata": {},
   "outputs": [],
   "source": [
    "dt_scores = cross_val_score(DecisionTreeClassifier(), X_train_tfidf, y_train, cv=3)\n",
    "print(\"Decision Tree Cross-Validation Accuracy Scores:\", dt_scores)"
   ]
  },
  {
   "cell_type": "code",
   "execution_count": null,
   "id": "d2c1c435-08d8-441c-a14d-3fa3c71cd461",
   "metadata": {},
   "outputs": [],
   "source": [
    "dt_pred_train = dt.predict(X_train_tfidf)\n",
    "dt_pred_test = dt.predict(X_test_tfidf)\n",
    "\n",
    "dt_train_score = accuracy_score(dt_pred_train, y_train)\n",
    "dt_test_score = accuracy_score(dt_pred_test, y_test)\n",
    "print(\"Decision Tree Train Score:\", dt_train_score)\n",
    "print(\"Decision Tree Test Score:\", dt_test_score)"
   ]
  },
  {
   "cell_type": "code",
   "execution_count": null,
   "id": "3d8115d5-9387-4a8d-ba7d-9f39bef8eab6",
   "metadata": {},
   "outputs": [],
   "source": [
    "print(classification_report(y_test, dt_pred_test))"
   ]
  },
  {
   "cell_type": "code",
   "execution_count": null,
   "id": "95481957-927e-4442-9e1c-a07cd876ed43",
   "metadata": {},
   "outputs": [],
   "source": [
    "dt_cm = confusion_matrix(y_test, dt_pred_test)\n",
    "fig, ax = plot_confusion_matrix(conf_mat=dt_cm, show_absolute=True, show_normed=True, colorbar=True, class_names=class_names)\n",
    "plt.title(\"Decision Tree Confusion Matrix\")\n",
    "plt.show()"
   ]
  },
  {
   "cell_type": "markdown",
   "id": "0dbfdffb-610a-416a-9e79-3861bd485417",
   "metadata": {},
   "source": [
    "# MultinomialNB"
   ]
  },
  {
   "cell_type": "code",
   "execution_count": null,
   "id": "02b5997d-b8e5-40aa-a6a2-fd4db47f57d0",
   "metadata": {},
   "outputs": [],
   "source": [
    "mnb = MultinomialNB()\n",
    "start = time.time()\n",
    "mnb.fit(X_train_tfidf, y_train)\n",
    "end = time.time()\n",
    "mnb_time = end - start\n",
    "print(\"MultinomialNB Train Time:\", mnb_time)"
   ]
  },
  {
   "cell_type": "code",
   "execution_count": null,
   "id": "9bd39aec-6363-423b-8a70-310013554ae3",
   "metadata": {},
   "outputs": [],
   "source": [
    "pickle.dump(mnb, open(\"mnb.pkl\", \"wb\"))"
   ]
  },
  {
   "cell_type": "code",
   "execution_count": null,
   "id": "dfbac7a9-62df-45c6-8358-d0c851d87f53",
   "metadata": {},
   "outputs": [],
   "source": [
    "mnb_score = cross_val_score(MultinomialNB(), X_train_tfidf, y_train, cv=3)\n",
    "print(\"MultinomialNB Cross-Validation Accuracy Scores:\", mnb_score)"
   ]
  },
  {
   "cell_type": "code",
   "execution_count": null,
   "id": "437dbe0a-bd46-4ca4-983d-1f4a7ba9caed",
   "metadata": {},
   "outputs": [],
   "source": [
    "mnb_pred_train = mnb.predict(X_train_tfidf)\n",
    "mnb_pred_test = mnb.predict(X_test_tfidf)\n",
    "\n",
    "mnb_train_score = accuracy_score(mnb_pred_train, y_train)\n",
    "mnb_test_score = accuracy_score(mnb_pred_test, y_test)\n",
    "print(\"MultinomialNB Train Score:\", mnb_train_score)\n",
    "print(\"MultinomialNB Test Score:\", mnb_test_score)"
   ]
  },
  {
   "cell_type": "code",
   "execution_count": null,
   "id": "5845c090-c8a5-477b-b174-0586db619ce6",
   "metadata": {},
   "outputs": [],
   "source": [
    "print(classification_report(y_test, mnb_pred_test))"
   ]
  },
  {
   "cell_type": "code",
   "execution_count": null,
   "id": "4a27aca1-2b3f-4648-b940-401f2c745bc1",
   "metadata": {},
   "outputs": [],
   "source": [
    "mnb_cm = confusion_matrix(y_test, mnb_pred_test)\n",
    "plot_confusion_matrix(conf_mat=mnb_cm, show_absolute=True, show_normed=True, colorbar=True, class_names=class_names)\n",
    "plt.title(\"MultinomialNB Confusion Matrix\")\n",
    "plt.show()"
   ]
  },
  {
   "cell_type": "markdown",
   "id": "d3b50ad6-9395-45aa-b2e6-993e950ac357",
   "metadata": {},
   "source": [
    "# XGB"
   ]
  },
  {
   "cell_type": "code",
   "execution_count": null,
   "id": "9bd78a44-23eb-4ede-a886-c41fdcc2be7c",
   "metadata": {},
   "outputs": [],
   "source": [
    "xgb = XGBClassifier()\n",
    "start = time.time()\n",
    "xgb.fit(X_train_tfidf, y_train)\n",
    "end = time.time()\n",
    "xgb_time = end - start\n",
    "print(\"XGB Train Time:\", xgb_time)"
   ]
  },
  {
   "cell_type": "code",
   "execution_count": null,
   "id": "58b31e7f-8b81-43e4-8105-cb71e4b8ca60",
   "metadata": {},
   "outputs": [],
   "source": [
    "xgb_scores = cross_val_score(XGBClassifier(), X_train_tfidf, y_train, cv=3)\n",
    "print(\"XGBClassifier Cross-Validation Accuracy Scores:\", xgb_scores)"
   ]
  },
  {
   "cell_type": "code",
   "execution_count": null,
   "id": "2198e5a3-5d29-4774-b042-7df34357b146",
   "metadata": {},
   "outputs": [],
   "source": [
    "xgb_pred_train = xgb.predict(X_train_tfidf)\n",
    "xgb_pred_test = xgb.predict(X_test_tfidf)\n",
    "\n",
    "xgb_train_score = accuracy_score(xgb_pred_train, y_train)\n",
    "xgb_test_score = accuracy_score(xgb_pred_test, y_test)\n",
    "print(\"XGB Train Score:\", xgb_train_score)\n",
    "print(\"XGB Test Score:\", xgb_test_score)"
   ]
  },
  {
   "cell_type": "code",
   "execution_count": null,
   "id": "5204186d-3b6e-4f72-9e04-c12f33817e2e",
   "metadata": {},
   "outputs": [],
   "source": [
    "print(classification_report(y_test, xgb_pred_test))"
   ]
  },
  {
   "cell_type": "code",
   "execution_count": null,
   "id": "6727548b-f78f-472a-921b-4db5a963f6ad",
   "metadata": {},
   "outputs": [],
   "source": [
    "xgb_cm = confusion_matrix(y_test, xgb_pred_test)\n",
    "plot_confusion_matrix(conf_mat=xgb_cm, show_absolute=True, show_normed=True, colorbar=True, class_names=class_names)\n",
    "plt.title(\"XGB Confusion Matrix\")\n",
    "plt.show()"
   ]
  },
  {
   "cell_type": "code",
   "execution_count": null,
   "id": "4d593b8b-4b07-49f9-9171-489a0d89ba5b",
   "metadata": {},
   "outputs": [],
   "source": [
    "labels = [\"LR\", \"DT\", \"RF\", \"MNB\", \"XGB\"]\n",
    "scores = [logreg_test_score, dt_test_score, rf_test_score, mnb_test_score, xgb_test_score]"
   ]
  },
  {
   "cell_type": "code",
   "execution_count": null,
   "id": "e9933d92-dba1-45d7-80f4-ff4fca295b73",
   "metadata": {},
   "outputs": [],
   "source": [
    "plt.figure()\n",
    "ax = sns.barplot(x=labels, y=scores)\n",
    "ax.set_title(\"Trained Models Accuracy\")\n",
    "for container in ax.containers:\n",
    "    ax.bar_label(container)\n",
    "\n",
    "plt.show()"
   ]
  },
  {
   "cell_type": "markdown",
   "id": "bbbc3abd-7a84-4768-bf60-883f5d6f6779",
   "metadata": {},
   "source": [
    "# Test"
   ]
  },
  {
   "cell_type": "code",
   "execution_count": null,
   "id": "6d963c04-147f-4b9d-a00f-23d0a56c590a",
   "metadata": {},
   "outputs": [],
   "source": [
    "folder = \"form\"\n",
    "file_path = os.path.join(root_dir, folder, \"00043194.jpg\")\n",
    "img = cv2.imread(file_path)\n",
    "text = pytesseract.image_to_data(img, output_type=\"data.frame\")\n",
    "text = text.dropna()\n",
    "words = []\n",
    "for t in text[\"text\"]:\n",
    "    words.append(t.strip())\n",
    "texts = \" \".join([word for word in words])\n",
    "texts_tfidf = tfidf.transform([texts])"
   ]
  },
  {
   "cell_type": "code",
   "execution_count": null,
   "id": "ac4a5e39-daed-4f46-ab1f-ce2f36766496",
   "metadata": {},
   "outputs": [],
   "source": [
    "result_idx = logreg.predict(texts_tfidf)\n",
    "result = class_names[result_idx[0]]\n",
    "print(result)"
   ]
  },
  {
   "cell_type": "code",
   "execution_count": null,
   "id": "80d9fcdc-0416-455a-87a3-71a8969644ec",
   "metadata": {},
   "outputs": [],
   "source": [
    "plt.figure()\n",
    "plt.imshow(img)\n",
    "plt.title(f\"Predicted: {result}\")\n",
    "plt.show()"
   ]
  },
  {
   "cell_type": "code",
   "execution_count": null,
   "id": "09ed66e0-262f-4b14-96a4-c8ef32a3b9c8",
   "metadata": {},
   "outputs": [],
   "source": []
  }
 ],
 "metadata": {
  "kernelspec": {
   "display_name": "Python 3 (ipykernel)",
   "language": "python",
   "name": "python3"
  },
  "language_info": {
   "codemirror_mode": {
    "name": "ipython",
    "version": 3
   },
   "file_extension": ".py",
   "mimetype": "text/x-python",
   "name": "python",
   "nbconvert_exporter": "python",
   "pygments_lexer": "ipython3",
   "version": "3.10.12"
  }
 },
 "nbformat": 4,
 "nbformat_minor": 5
}
